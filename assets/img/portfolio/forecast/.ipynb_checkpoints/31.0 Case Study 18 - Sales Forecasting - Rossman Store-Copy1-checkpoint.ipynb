{
 "cells": [
  {
   "cell_type": "markdown",
   "metadata": {
    "colab_type": "text",
    "id": "mmhPPPmTA1qH"
   },
   "source": [
    "### Previsão de vendas com Análise de Séries Temporais.\n",
    "\n",
    "\n",
    "\n",
    "https://www.kaggle.com/ravi07bec/ravi-ts"
   ]
  },
  {
   "cell_type": "code",
   "execution_count": null,
   "metadata": {},
   "outputs": [],
   "source": [
    "### Versão modificada Por: RODRIGO SOUZA"
   ]
  },
  {
   "cell_type": "markdown",
   "metadata": {},
   "source": [
    "#### Meu Linkedin: https://www.linkedin.com/in/ssrodrigo"
   ]
  },
  {
   "cell_type": "markdown",
   "metadata": {},
   "source": [
    "## Objetivo:\n",
    "\n",
    "•\tAnálise por tipo de loja e análise correlacional da atividade das lojas.\n",
    "\n",
    "•\tRealize extensa análise da série temporal (decomposição sazonal, tendências, autocorrelação).\n",
    "\n",
    "•\tPrever as próximas 6 semanas de vendas usando Prophet (metodologia do Facebook).\n"
   ]
  },
  {
   "cell_type": "code",
   "execution_count": null,
   "metadata": {},
   "outputs": [],
   "source": [
    "pip install prophet"
   ]
  },
  {
   "cell_type": "code",
   "execution_count": null,
   "metadata": {
    "colab": {},
    "colab_type": "code",
    "id": "XZSpPxdeBF1K"
   },
   "outputs": [],
   "source": [
    "# Download and unzip our zipfile\n",
    "from urllib.request import urlopen\n",
    "from zipfile import ZipFile\n",
    "\n",
    "zipurl = 'https://raw.githubusercontent.com/rajeevratan84/datascienceforbusiness/master/rossman_train.zip'\n",
    "zipresp = urlopen(zipurl) # Create a new file on the hard drive\n",
    "tempzip = open(\"/tmp/tempfile.zip\", \"wb\") # Write the contents of the downloaded file into the new file\n",
    "tempzip.write(zipresp.read()) # Close the newly-created file\n",
    "tempzip.close() # Re-open the newly-created file with ZipFile()\n",
    "zf = ZipFile(\"/tmp/tempfile.zip\") # Extract its contents into <extraction_path>\n",
    "zf.extractall(path = '') # note that extractall will automatically create the path, left blank so it's in working directory\n",
    "# close the ZipFile instance\n",
    "zf.close()"
   ]
  },
  {
   "cell_type": "code",
   "execution_count": null,
   "metadata": {
    "colab": {},
    "colab_type": "code",
    "id": "_dNFKDRthUaX"
   },
   "outputs": [],
   "source": [
    "import warnings\n",
    "warnings.filterwarnings(\"ignore\")\n",
    "\n",
    "# loading packages\n",
    "# basic + dates \n",
    "import numpy as np\n",
    "import pandas as pd\n",
    "from pandas import datetime\n",
    "\n",
    "# data visualization\n",
    "import matplotlib.pyplot as plt\n",
    "import seaborn as sns # advanced vizs\n",
    "%matplotlib inline\n",
    "\n",
    "# statistics\n",
    "from statsmodels.distributions.empirical_distribution import ECDF\n",
    "\n",
    "# time series analysis\n",
    "from statsmodels.tsa.seasonal import seasonal_decompose\n",
    "from statsmodels.graphics.tsaplots import plot_acf, plot_pacf\n",
    "\n",
    "# prophet by Facebook\n",
    "from fbprophet import Prophet"
   ]
  },
  {
   "cell_type": "code",
   "execution_count": null,
   "metadata": {},
   "outputs": [],
   "source": [
    " from prophet import Prophet"
   ]
  },
  {
   "cell_type": "code",
   "execution_count": null,
   "metadata": {
    "colab": {
     "base_uri": "https://localhost:8080/",
     "height": 156
    },
    "colab_type": "code",
    "executionInfo": {
     "elapsed": 1758,
     "status": "ok",
     "timestamp": 1573349547792,
     "user": {
      "displayName": "Rajeev Ratan",
      "photoUrl": "https://lh3.googleusercontent.com/a-/AAuE7mCGo6aIm0tOcd5EhqWlYb0rime9sBvHS9YMpx0D2w=s64",
      "userId": "08597265227091462140"
     },
     "user_tz": 0
    },
    "id": "20UWKmPchU1m",
    "outputId": "562a60f5-de83-4ab7-f9d2-2d7c02321d0f"
   },
   "outputs": [],
   "source": [
    "# Loading our Datasets\n",
    "train = pd.read_csv(\"rossman_train.csv\", parse_dates = True, low_memory = False, index_col = 'Date')\n",
    "\n",
    "# Load the additional store data\n",
    "file_name = \"https://raw.githubusercontent.com/rajeevratan84/datascienceforbusiness/master/rossman_store.csv\"\n",
    "store = pd.read_csv(file_name, low_memory=False)\n",
    "\n",
    "# time series as indexes\n",
    "train.index"
   ]
  },
  {
   "cell_type": "code",
   "execution_count": null,
   "metadata": {
    "colab": {
     "base_uri": "https://localhost:8080/",
     "height": 250
    },
    "colab_type": "code",
    "executionInfo": {
     "elapsed": 788,
     "status": "ok",
     "timestamp": 1573074239664,
     "user": {
      "displayName": "Rajeev Ratan",
      "photoUrl": "https://lh3.googleusercontent.com/a-/AAuE7mCGo6aIm0tOcd5EhqWlYb0rime9sBvHS9YMpx0D2w=s64",
      "userId": "08597265227091462140"
     },
     "user_tz": 0
    },
    "id": "Ok5dbomohqAc",
    "outputId": "6ca92f82-50f9-4fa3-9c41-6f4cb0cf090d"
   },
   "outputs": [],
   "source": [
    "# first glance at the train set: head and tail\n",
    "print(\"In total: \", train.shape)\n",
    "train.head(5)"
   ]
  },
  {
   "cell_type": "code",
   "execution_count": null,
   "metadata": {
    "colab": {
     "base_uri": "https://localhost:8080/",
     "height": 191
    },
    "colab_type": "code",
    "executionInfo": {
     "elapsed": 1030,
     "status": "ok",
     "timestamp": 1573074247845,
     "user": {
      "displayName": "Rajeev Ratan",
      "photoUrl": "https://lh3.googleusercontent.com/a-/AAuE7mCGo6aIm0tOcd5EhqWlYb0rime9sBvHS9YMpx0D2w=s64",
      "userId": "08597265227091462140"
     },
     "user_tz": 0
    },
    "id": "YCTDgd-Gh_0o",
    "outputId": "88389f24-cf18-4f50-8981-dc03f4047f85"
   },
   "outputs": [],
   "source": [
    "# data extraction\n",
    "train['Year'] = train.index.year\n",
    "train['Month'] = train.index.month\n",
    "train['Day'] = train.index.day\n",
    "train['WeekOfYear'] = train.index.weekofyear\n",
    "\n",
    "# adding new variable\n",
    "train['SalePerCustomer'] = train['Sales']/train['Customers']\n",
    "train['SalePerCustomer'].describe()"
   ]
  },
  {
   "cell_type": "code",
   "execution_count": null,
   "metadata": {
    "colab": {
     "base_uri": "https://localhost:8080/",
     "height": 394
    },
    "colab_type": "code",
    "executionInfo": {
     "elapsed": 2432,
     "status": "ok",
     "timestamp": 1573074266285,
     "user": {
      "displayName": "Rajeev Ratan",
      "photoUrl": "https://lh3.googleusercontent.com/a-/AAuE7mCGo6aIm0tOcd5EhqWlYb0rime9sBvHS9YMpx0D2w=s64",
      "userId": "08597265227091462140"
     },
     "user_tz": 0
    },
    "id": "Y2r31Nb0iBxB",
    "outputId": "5d541f38-374c-4ddd-9cb2-dcc2be92ad65"
   },
   "outputs": [],
   "source": [
    "# To get the first impression about continious variables in the data we can plot ECDF.\n",
    "sns.set(style = \"ticks\")# to format into seaborn \n",
    "c = '#386B7F' # basic color for plots\n",
    "plt.figure(figsize = (12, 6))\n",
    "\n",
    "plt.subplot(311)\n",
    "cdf = ECDF(train['Sales'])\n",
    "plt.plot(cdf.x, cdf.y, label = \"statmodels\", color = c);\n",
    "plt.xlabel('Sales'); plt.ylabel('ECDF');\n",
    "\n",
    "# plot second ECDF  \n",
    "plt.subplot(312)\n",
    "cdf = ECDF(train['Customers'])\n",
    "plt.plot(cdf.x, cdf.y, label = \"statmodels\", color = c);\n",
    "plt.xlabel('Customers');\n",
    "\n",
    "# plot second ECDF  \n",
    "plt.subplot(313)\n",
    "cdf = ECDF(train['SalePerCustomer'])\n",
    "plt.plot(cdf.x, cdf.y, label = \"statmodels\", color = c);\n",
    "plt.xlabel('Sale per Customer');"
   ]
  },
  {
   "cell_type": "code",
   "execution_count": null,
   "metadata": {
    "colab": {
     "base_uri": "https://localhost:8080/",
     "height": 339
    },
    "colab_type": "code",
    "executionInfo": {
     "elapsed": 1562,
     "status": "ok",
     "timestamp": 1573074273651,
     "user": {
      "displayName": "Rajeev Ratan",
      "photoUrl": "https://lh3.googleusercontent.com/a-/AAuE7mCGo6aIm0tOcd5EhqWlYb0rime9sBvHS9YMpx0D2w=s64",
      "userId": "08597265227091462140"
     },
     "user_tz": 0
    },
    "id": "_lToTcFFiDpt",
    "outputId": "e61f3da1-4116-4501-814e-f1ea5e5c130a"
   },
   "outputs": [],
   "source": [
    "# closed stores\n",
    "train[(train.Open == 0) & (train.Sales == 0)].head()"
   ]
  },
  {
   "cell_type": "markdown",
   "metadata": {
    "colab_type": "text",
    "id": "-AXKpCJeiN4R"
   },
   "source": [
    "Há 172817 lojas fechadas nos dados. É cerca de 10% da quantidade total de observações. Para evitar previsões tendenciosas, vamos baixar esses valores.\n",
    "\n",
    "Que tal abrir lojas sem vendas?"
   ]
  },
  {
   "cell_type": "code",
   "execution_count": null,
   "metadata": {
    "colab": {
     "base_uri": "https://localhost:8080/",
     "height": 357
    },
    "colab_type": "code",
    "executionInfo": {
     "elapsed": 3296,
     "status": "ok",
     "timestamp": 1573074288598,
     "user": {
      "displayName": "Rajeev Ratan",
      "photoUrl": "https://lh3.googleusercontent.com/a-/AAuE7mCGo6aIm0tOcd5EhqWlYb0rime9sBvHS9YMpx0D2w=s64",
      "userId": "08597265227091462140"
     },
     "user_tz": 0
    },
    "id": "C0neHzaFiH7f",
    "outputId": "767d2d85-055a-4323-c73e-e924bcf61ffa"
   },
   "outputs": [],
   "source": [
    "zero_sales = train[(train.Open != 0) & (train.Sales == 0)]\n",
    "print(\"In total: \", zero_sales.shape)\n",
    "zero_sales.head(5)"
   ]
  },
  {
   "cell_type": "code",
   "execution_count": null,
   "metadata": {
    "colab": {
     "base_uri": "https://localhost:8080/",
     "height": 257
    },
    "colab_type": "code",
    "executionInfo": {
     "elapsed": 830,
     "status": "ok",
     "timestamp": 1573074315846,
     "user": {
      "displayName": "Rajeev Ratan",
      "photoUrl": "https://lh3.googleusercontent.com/a-/AAuE7mCGo6aIm0tOcd5EhqWlYb0rime9sBvHS9YMpx0D2w=s64",
      "userId": "08597265227091462140"
     },
     "user_tz": 0
    },
    "id": "5-CWzdCtiLKD",
    "outputId": "7b10a986-65d1-4f1a-ac7c-fa657069554d"
   },
   "outputs": [],
   "source": [
    "print(\"Closed stores and days which didn't have any sales won't be counted into the forecasts.\")\n",
    "train = train[(train[\"Open\"] != 0) & (train['Sales'] != 0)]\n",
    "\n",
    "print(\"In total: \", train.shape)\n",
    "\n",
    "# additional information about the stores\n",
    "store.head()"
   ]
  },
  {
   "cell_type": "code",
   "execution_count": null,
   "metadata": {
    "colab": {
     "base_uri": "https://localhost:8080/",
     "height": 208
    },
    "colab_type": "code",
    "executionInfo": {
     "elapsed": 1596,
     "status": "ok",
     "timestamp": 1573074323889,
     "user": {
      "displayName": "Rajeev Ratan",
      "photoUrl": "https://lh3.googleusercontent.com/a-/AAuE7mCGo6aIm0tOcd5EhqWlYb0rime9sBvHS9YMpx0D2w=s64",
      "userId": "08597265227091462140"
     },
     "user_tz": 0
    },
    "id": "nGRq7Mp8iRNO",
    "outputId": "00922e23-fad0-4a1e-f99a-daa532e5d2d9"
   },
   "outputs": [],
   "source": [
    "# missing values?\n",
    "store.isnull().sum()"
   ]
  },
  {
   "cell_type": "code",
   "execution_count": null,
   "metadata": {
    "colab": {
     "base_uri": "https://localhost:8080/",
     "height": 161
    },
    "colab_type": "code",
    "executionInfo": {
     "elapsed": 1313,
     "status": "ok",
     "timestamp": 1573074328542,
     "user": {
      "displayName": "Rajeev Ratan",
      "photoUrl": "https://lh3.googleusercontent.com/a-/AAuE7mCGo6aIm0tOcd5EhqWlYb0rime9sBvHS9YMpx0D2w=s64",
      "userId": "08597265227091462140"
     },
     "user_tz": 0
    },
    "id": "SeAuAIxFiUMP",
    "outputId": "467939f0-6406-4e99-879c-9590adf3733b"
   },
   "outputs": [],
   "source": [
    "# missing values in CompetitionDistance\n",
    "store[pd.isnull(store.CompetitionDistance)]"
   ]
  },
  {
   "cell_type": "code",
   "execution_count": null,
   "metadata": {
    "colab": {},
    "colab_type": "code",
    "id": "HzP3BF5siVYw"
   },
   "outputs": [],
   "source": [
    "# fill NaN with a median value (skewed distribuion)\n",
    "store['CompetitionDistance'].fillna(store['CompetitionDistance'].median(), inplace = True)"
   ]
  },
  {
   "cell_type": "code",
   "execution_count": null,
   "metadata": {
    "colab": {
     "base_uri": "https://localhost:8080/",
     "height": 35
    },
    "colab_type": "code",
    "executionInfo": {
     "elapsed": 1055,
     "status": "ok",
     "timestamp": 1573074346557,
     "user": {
      "displayName": "Rajeev Ratan",
      "photoUrl": "https://lh3.googleusercontent.com/a-/AAuE7mCGo6aIm0tOcd5EhqWlYb0rime9sBvHS9YMpx0D2w=s64",
      "userId": "08597265227091462140"
     },
     "user_tz": 0
    },
    "id": "VByIfl_5iWfK",
    "outputId": "f3b52576-eaa1-44eb-d57e-c1a0bc8187f7"
   },
   "outputs": [],
   "source": [
    "# no promo = no information about the promo?\n",
    "_ = store[pd.isnull(store.Promo2SinceWeek)]\n",
    "_[_.Promo2 != 0].shape"
   ]
  },
  {
   "cell_type": "code",
   "execution_count": null,
   "metadata": {
    "colab": {},
    "colab_type": "code",
    "id": "jz1MuIuTiZ25"
   },
   "outputs": [],
   "source": [
    "# replace NA's by 0\n",
    "store.fillna(0, inplace = True)"
   ]
  },
  {
   "cell_type": "code",
   "execution_count": null,
   "metadata": {
    "colab": {
     "base_uri": "https://localhost:8080/",
     "height": 257
    },
    "colab_type": "code",
    "executionInfo": {
     "elapsed": 774,
     "status": "ok",
     "timestamp": 1573074356095,
     "user": {
      "displayName": "Rajeev Ratan",
      "photoUrl": "https://lh3.googleusercontent.com/a-/AAuE7mCGo6aIm0tOcd5EhqWlYb0rime9sBvHS9YMpx0D2w=s64",
      "userId": "08597265227091462140"
     },
     "user_tz": 0
    },
    "id": "qbBiC1b3ibTI",
    "outputId": "80a4b458-af32-440e-fdfd-2e9dd3e62c84"
   },
   "outputs": [],
   "source": [
    "print(\"Joining train set with an additional store information.\")\n",
    "\n",
    "# by specifying inner join we make sure that only those observations \n",
    "# that are present in both train and store sets are merged together\n",
    "train_store = pd.merge(train, store, how = 'inner', on = 'Store')\n",
    "\n",
    "print(\"In total: \", train_store.shape)\n",
    "train_store.head()"
   ]
  },
  {
   "cell_type": "code",
   "execution_count": null,
   "metadata": {
    "colab": {
     "base_uri": "https://localhost:8080/",
     "height": 202
    },
    "colab_type": "code",
    "executionInfo": {
     "elapsed": 1117,
     "status": "ok",
     "timestamp": 1573074363867,
     "user": {
      "displayName": "Rajeev Ratan",
      "photoUrl": "https://lh3.googleusercontent.com/a-/AAuE7mCGo6aIm0tOcd5EhqWlYb0rime9sBvHS9YMpx0D2w=s64",
      "userId": "08597265227091462140"
     },
     "user_tz": 0
    },
    "id": "qayWWVt3icQV",
    "outputId": "ab6a132c-a390-40b8-d61b-a829916bc470"
   },
   "outputs": [],
   "source": [
    "train_store.groupby('StoreType')['Sales'].describe()"
   ]
  },
  {
   "cell_type": "markdown",
   "metadata": {
    "colab_type": "text",
    "id": "DAbFUALjigzM"
   },
   "source": [
    "O StoreType B tem a maior média de vendas entre todas as outras, porém temos muito menos dados para isso. Então vamos imprimir uma soma geral de vendas e clientes para ver qual StoreType é o mais vendido e lotado:"
   ]
  },
  {
   "cell_type": "code",
   "execution_count": null,
   "metadata": {
    "colab": {
     "base_uri": "https://localhost:8080/",
     "height": 202
    },
    "colab_type": "code",
    "executionInfo": {
     "elapsed": 1425,
     "status": "ok",
     "timestamp": 1573074368874,
     "user": {
      "displayName": "Rajeev Ratan",
      "photoUrl": "https://lh3.googleusercontent.com/a-/AAuE7mCGo6aIm0tOcd5EhqWlYb0rime9sBvHS9YMpx0D2w=s64",
      "userId": "08597265227091462140"
     },
     "user_tz": 0
    },
    "id": "4ZEA3u8pieEh",
    "outputId": "4501d951-a9f9-4800-8432-df452f5cb173"
   },
   "outputs": [],
   "source": [
    "train_store.groupby('StoreType')['Customers', 'Sales'].sum()"
   ]
  },
  {
   "cell_type": "code",
   "execution_count": null,
   "metadata": {
    "colab": {
     "base_uri": "https://localhost:8080/",
     "height": 222
    },
    "colab_type": "code",
    "executionInfo": {
     "elapsed": 861,
     "status": "ok",
     "timestamp": 1573074546550,
     "user": {
      "displayName": "Rajeev Ratan",
      "photoUrl": "https://lh3.googleusercontent.com/a-/AAuE7mCGo6aIm0tOcd5EhqWlYb0rime9sBvHS9YMpx0D2w=s64",
      "userId": "08597265227091462140"
     },
     "user_tz": 0
    },
    "id": "F1t0yqlajJXU",
    "outputId": "53de992c-3d8e-4cb9-cc02-80378aefb2ab"
   },
   "outputs": [],
   "source": [
    "train_store.head()"
   ]
  },
  {
   "cell_type": "markdown",
   "metadata": {
    "colab_type": "text",
    "id": "QYlZbZ7ainTf"
   },
   "source": [
    "Claramente as lojas do tipo A. StoreType D vão em segundo lugar tanto em Vendas quanto em Clientes. E os períodos de encontro? A grade de facetas da Seaborn é a melhor ferramenta para esta tarefa:"
   ]
  },
  {
   "cell_type": "code",
   "execution_count": null,
   "metadata": {
    "colab": {
     "base_uri": "https://localhost:8080/",
     "height": 383
    },
    "colab_type": "code",
    "executionInfo": {
     "elapsed": 23514,
     "status": "ok",
     "timestamp": 1573074921906,
     "user": {
      "displayName": "Rajeev Ratan",
      "photoUrl": "https://lh3.googleusercontent.com/a-/AAuE7mCGo6aIm0tOcd5EhqWlYb0rime9sBvHS9YMpx0D2w=s64",
      "userId": "08597265227091462140"
     },
     "user_tz": 0
    },
    "id": "bh76DH6lifNp",
    "outputId": "dc740009-5566-4f76-d935-6b551af0b01b"
   },
   "outputs": [],
   "source": [
    "sns.factorplot(data = train_store, x = 'Month', y = \"Sales\", col = 'Promo',hue = 'StoreType') "
   ]
  },
  {
   "cell_type": "code",
   "execution_count": null,
   "metadata": {
    "colab": {
     "base_uri": "https://localhost:8080/",
     "height": 383
    },
    "colab_type": "code",
    "executionInfo": {
     "elapsed": 21684,
     "status": "ok",
     "timestamp": 1573075055693,
     "user": {
      "displayName": "Rajeev Ratan",
      "photoUrl": "https://lh3.googleusercontent.com/a-/AAuE7mCGo6aIm0tOcd5EhqWlYb0rime9sBvHS9YMpx0D2w=s64",
      "userId": "08597265227091462140"
     },
     "user_tz": 0
    },
    "id": "euA076tRiokK",
    "outputId": "d317f4a3-4d89-4360-ff6b-f57a25f7893e"
   },
   "outputs": [],
   "source": [
    "sns.factorplot(data = train_store, x = 'Month', y = \"Customers\", col = 'Promo',hue = 'StoreType') "
   ]
  },
  {
   "cell_type": "code",
   "execution_count": null,
   "metadata": {
    "colab": {
     "base_uri": "https://localhost:8080/",
     "height": 383
    },
    "colab_type": "code",
    "executionInfo": {
     "elapsed": 20885,
     "status": "ok",
     "timestamp": 1573075079538,
     "user": {
      "displayName": "Rajeev Ratan",
      "photoUrl": "https://lh3.googleusercontent.com/a-/AAuE7mCGo6aIm0tOcd5EhqWlYb0rime9sBvHS9YMpx0D2w=s64",
      "userId": "08597265227091462140"
     },
     "user_tz": 0
    },
    "id": "hR5-4C2hjOOV",
    "outputId": "c4df2093-70b3-4254-9f62-f8355c533262"
   },
   "outputs": [],
   "source": [
    "sns.factorplot(data = train_store, x = 'Month', y = \"SalePerCustomer\", col = 'Promo',hue = 'StoreType')"
   ]
  },
  {
   "cell_type": "markdown",
   "metadata": {
    "colab_type": "text",
    "id": "i9h855cIm5Gq"
   },
   "source": [
    "StoreType B como o mais vendido e realizador, na realidade não é verdade. O maior valor salepercustomer é observado na LojaType D, cerca de 12€ com Promo e 10€ sem. Quanto à StoreType A e C, é de cerca de 9€.\n",
    "\n",
    "O baixo valor do SalePerCustomer para StoreType B descreve seu Carrinho de Compradores: há muitas pessoas que compram essencialmente para coisas \"pequenas\" (ou em pequena quantidade). Além disso, vimos que no geral este StoreType gerou a menor quantidade de vendas e clientes durante o período.\n",
    "\n"
   ]
  },
  {
   "cell_type": "markdown",
   "metadata": {
    "colab_type": "text",
    "id": "0hCHS-CZnCVF"
   },
   "source": [
    "Para concluir nossa análise preliminar de dados, podemos adicionar variáveis descrevendo o período de tempo durante o qual a concorrência e a promoção foram abertas:Para concluir nossa análise preliminar de dados, podemos adicionar variáveis descrevendo o período de tempo durante o qual a concorrência e a promoção foram abertas:"
   ]
  },
  {
   "cell_type": "code",
   "execution_count": null,
   "metadata": {
    "colab": {
     "base_uri": "https://localhost:8080/",
     "height": 202
    },
    "colab_type": "code",
    "executionInfo": {
     "elapsed": 7404,
     "status": "ok",
     "timestamp": 1573075300064,
     "user": {
      "displayName": "Rajeev Ratan",
      "photoUrl": "https://lh3.googleusercontent.com/a-/AAuE7mCGo6aIm0tOcd5EhqWlYb0rime9sBvHS9YMpx0D2w=s64",
      "userId": "08597265227091462140"
     },
     "user_tz": 0
    },
    "id": "uaQpcZiclU1V",
    "outputId": "e1b95bd7-b7cb-48ec-d07b-13f28d00ae23"
   },
   "outputs": [],
   "source": [
    "train_store['CompetitionOpen'] = 12 * (train_store.Year - train_store.CompetitionOpenSinceYear) + \\\n",
    "        (train_store.Month - train_store.CompetitionOpenSinceMonth)\n",
    "    \n",
    "# Promo open time\n",
    "train_store['PromoOpen'] = 12 * (train_store.Year - train_store.Promo2SinceYear) + \\\n",
    "        (train_store.WeekOfYear - train_store.Promo2SinceWeek) / 4.0\n",
    "\n",
    "# replace NA's by 0\n",
    "train_store.fillna(0, inplace = True)\n",
    "\n",
    "# average PromoOpen time and CompetitionOpen time per store type\n",
    "train_store.loc[:, ['StoreType', 'Sales', 'Customers', 'PromoOpen', 'CompetitionOpen']].groupby('StoreType').mean()"
   ]
  },
  {
   "cell_type": "code",
   "execution_count": null,
   "metadata": {
    "colab": {
     "base_uri": "https://localhost:8080/",
     "height": 680
    },
    "colab_type": "code",
    "executionInfo": {
     "elapsed": 7397,
     "status": "ok",
     "timestamp": 1573075300065,
     "user": {
      "displayName": "Rajeev Ratan",
      "photoUrl": "https://lh3.googleusercontent.com/a-/AAuE7mCGo6aIm0tOcd5EhqWlYb0rime9sBvHS9YMpx0D2w=s64",
      "userId": "08597265227091462140"
     },
     "user_tz": 0
    },
    "id": "9tvJ2TCUlYDe",
    "outputId": "606d7c6b-abf2-4766-c9f6-24d3e28e3212"
   },
   "outputs": [],
   "source": [
    "# Compute the correlation matrix \n",
    "# exclude 'Open' variable\n",
    "corr_all = train_store.drop('Open', axis = 1).corr()\n",
    "\n",
    "# Generate a mask for the upper triangle\n",
    "mask = np.zeros_like(corr_all, dtype = np.bool)\n",
    "mask[np.triu_indices_from(mask)] = True\n",
    "\n",
    "# Set up the matplotlib figure\n",
    "f, ax = plt.subplots(figsize = (11, 9))\n",
    "\n",
    "# Draw the heatmap with the mask and correct aspect ratio\n",
    "sns.heatmap(corr_all, mask = mask,\n",
    "            square = True, linewidths = .5, ax = ax, cmap = \"BuPu\")      \n",
    "plt.show()"
   ]
  },
  {
   "cell_type": "markdown",
   "metadata": {},
   "source": [
    "Como mencionado anteriormente, temos uma forte correlação positiva entre a quantidade de Vendas e Clientes de uma loja. Observamos também uma correlação positiva entre o fato de que a loja teve uma promoção em execução (Promo igual a 1) e quantidade de Clientes.\n",
    "\n"
   ]
  },
  {
   "cell_type": "markdown",
   "metadata": {},
   "source": [
    "No entanto, assim que a loja continua uma promoção consecutiva (Promo2 igual a 1) o número de Clientes e Vendas parece permanecer o mesmo ou mesmo diminuir, o que é descrito pela correlação negativa pálida no mapa de calor. A mesma correlação negativa é observada entre a presença da promoção na loja e o dia de uma semana\n"
   ]
  },
  {
   "cell_type": "code",
   "execution_count": null,
   "metadata": {
    "colab": {
     "base_uri": "https://localhost:8080/",
     "height": 383
    },
    "colab_type": "code",
    "executionInfo": {
     "elapsed": 24472,
     "status": "ok",
     "timestamp": 1573075718643,
     "user": {
      "displayName": "Rajeev Ratan",
      "photoUrl": "https://lh3.googleusercontent.com/a-/AAuE7mCGo6aIm0tOcd5EhqWlYb0rime9sBvHS9YMpx0D2w=s64",
      "userId": "08597265227091462140"
     },
     "user_tz": 0
    },
    "id": "7xQaq16rlZFw",
    "outputId": "7cc10619-8a73-44f2-e446-120b51f003ed"
   },
   "outputs": [],
   "source": [
    "# sale per customer trends\n",
    "sns.factorplot(data = train_store, x = 'DayOfWeek', y = \"Sales\", col = 'Promo',hue = 'Promo2')"
   ]
  },
  {
   "cell_type": "markdown",
   "metadata": {
    "colab_type": "text",
    "id": "jlRoVWLgnsWE"
   },
   "source": [
    "Há várias coisas aqui:\n",
    "\n",
    "- Em caso de não promoção, tanto Promo quanto Promo2 são iguais a 0, as vendas tendem a atingir o pico no domingo (!). Embora devemos notar que storeType C não funciona aos domingos. Portanto, são principalmente dados do StoreType A, B e D.\n",
    "\n",
    "- Pelo contrário, as lojas que executam a promoção tendem a aproveitar ao máximo as vendas na segunda-feira. Esse fato pode ser um bom indicador para as campanhas de marketing da Rossmann. A mesma tendência segue as lojas que têm promoção ao mesmo tempo (Promo e Promo2 são iguais a 1).\n",
    "\n",
    "- O Promo2 por si só não parece estar correlacionado com qualquer alteração significativa no valor de Vendas. Isso também pode ser prooved pela área azul pálida no mapa de calor acima."
   ]
  },
  {
   "cell_type": "markdown",
   "metadata": {
    "colab_type": "text",
    "id": "ZWcL6Ty7nv6U"
   },
   "source": [
    "# Conclusão do EDA\n",
    "- O StoreType mais vendido e lotado é A.\n",
    "- A melhor loja \"Venda por Cliente\"Type D indica para o carrinho comprador mais alto. Para se beneficiar desse fato, Rossmann pode considerar propor uma maior variedade de seus produtos.\n",
    "- Baixo salePerCustomer valor para StoreType B indica o fato de que as pessoas compram lá essencialmente para coisas \"pequenas\". Mesmo assim, embora este StoreType tenha gerado a menor quantidade de vendas e clientes durante todo o período, ele mostra um grande potencial.\n"
   ]
  },
  {
   "cell_type": "markdown",
   "metadata": {
    "colab_type": "text",
    "id": "sSjXuyq0n323"
   },
   "source": [
    "# Análise série de tempo por tipo de loja\n",
    "O que torna uma série temporal diferente de um problema de regressão regular?\n",
    "\n",
    "- É dependente do tempo. A suposição básica de uma regressão linear que as observações são independentes não se mantém neste caso.\n",
    "- Juntamente com uma tendência crescente ou decrescente, a maioria das séries temporadas tem alguma forma de tendências de sazonalidade, ou seja, variações específicas para um determinado período de tempo. Por exemplo, para as férias de Natal, que veremos neste conjunto de dados.\n",
    "\n",
    "Construímos uma análise de séries temporariais em tipos de lojas em vez de lojas individuais. A principal vantagem dessa abordagem é sua simplicidade de apresentação e contação geral de diferentes tendências e sazonalidades no conjunto de dados.\n",
    "\n",
    "Nesta seção, analisaremos os dados da série temporal: suas tendências, sesonidades e autocorrelação. Normalmente, ao final da análise, somos capazes de desenvolver um modelo ARIMA (Autoregression Integrated Moving Average), mas não será nosso foco principal hoje. Em vez disso, tentamos entender os dados, e só mais tarde chegar às previsões usando a metodologia do Profeta.\n",
    "\n",
    "## Sazonalidade\n",
    "Pegamos quatro lojas de tipos de lojas para representar seu grupo:\n",
    "- Armazenar o número 2 para StoreType A\n",
    "- Armazenar o número 85 para StoreType B,\n",
    "- Armazenar o número 1 para StoreType C\n",
    "- Armazene o número 13 para StoreType D.\n",
    "Também faz sentido diminuir a coleta de dados de dias a semanas usando o método de resample para ver as tendências atuais com mais clareza.\n",
    "\n",
    "\n",
    "Prophet Bug - https://darektidwell.com/typeerror-float-argument-must-be-a-string-or-a-number-not-period-facebook-prophet-and-pandas/"
   ]
  },
  {
   "cell_type": "code",
   "execution_count": null,
   "metadata": {
    "colab": {
     "base_uri": "https://localhost:8080/",
     "height": 803
    },
    "colab_type": "code",
    "executionInfo": {
     "elapsed": 2263,
     "status": "ok",
     "timestamp": 1573079374442,
     "user": {
      "displayName": "Rajeev Ratan",
      "photoUrl": "https://lh3.googleusercontent.com/a-/AAuE7mCGo6aIm0tOcd5EhqWlYb0rime9sBvHS9YMpx0D2w=s64",
      "userId": "08597265227091462140"
     },
     "user_tz": 0
    },
    "id": "E_Dl7dmNla2-",
    "outputId": "1a1ef787-2784-48c1-ff62-6f4b6f286922"
   },
   "outputs": [],
   "source": [
    "# Prophet Bug - Prophet deregisters the Pandas converters in its code.\n",
    "pd.plotting.register_matplotlib_converters()\n",
    "\n",
    "# preparation: input should be float type\n",
    "train['Sales'] = train['Sales'] * 1.0\n",
    "\n",
    "# store types\n",
    "sales_a = train[train.Store == 2]['Sales']\n",
    "sales_b = train[train.Store == 85]['Sales'].sort_index(ascending = True) # solve the reverse order\n",
    "sales_c = train[train.Store == 1]['Sales']\n",
    "sales_d = train[train.Store == 13]['Sales']\n",
    "\n",
    "f, (ax1, ax2, ax3, ax4) = plt.subplots(4, figsize = (12, 13))\n",
    "\n",
    "# store types\n",
    "sales_a.resample('W').sum().plot(ax = ax1)\n",
    "sales_b.resample('W').sum().plot(ax = ax2)\n",
    "sales_c.resample('W').sum().plot(color = c, ax = ax3)\n",
    "sales_d.resample('W').sum().plot(color = c, ax = ax4)"
   ]
  },
  {
   "cell_type": "markdown",
   "metadata": {
    "colab_type": "text",
    "id": "PXYAt7Pa1xA7"
   },
   "source": [
    "Confira a presença de uma tendência em séries."
   ]
  },
  {
   "cell_type": "code",
   "execution_count": null,
   "metadata": {
    "colab": {
     "base_uri": "https://localhost:8080/",
     "height": 745
    },
    "colab_type": "code",
    "executionInfo": {
     "elapsed": 16262,
     "status": "ok",
     "timestamp": 1573079639657,
     "user": {
      "displayName": "Rajeev Ratan",
      "photoUrl": "https://lh3.googleusercontent.com/a-/AAuE7mCGo6aIm0tOcd5EhqWlYb0rime9sBvHS9YMpx0D2w=s64",
      "userId": "08597265227091462140"
     },
     "user_tz": 0
    },
    "id": "mAdMOU3voBIw",
    "outputId": "b5ae0c92-6154-48cd-97b2-c5fe8d31188d"
   },
   "outputs": [],
   "source": [
    "f, (ax1, ax2, ax3, ax4) = plt.subplots(4, figsize = (12, 13))\n",
    "\n",
    "# monthly\n",
    "decomposition_a = seasonal_decompose(sales_a, model = 'additive', freq = 365)\n",
    "decomposition_a.trend.plot(color = c, ax = ax1)\n",
    "\n",
    "decomposition_b = seasonal_decompose(sales_b, model = 'additive', freq = 365)\n",
    "decomposition_b.trend.plot(color = c, ax = ax2)\n",
    "\n",
    "decomposition_c = seasonal_decompose(sales_c, model = 'additive', freq = 365)\n",
    "decomposition_c.trend.plot(color = c, ax = ax3)\n",
    "\n",
    "\n",
    "\n",
    "decomposition_d = seasonal_decompose(sales_d, model = 'additive', freq = 365)\n",
    "decomposition_d.trend.plot(color = c, ax = ax4)"
   ]
  },
  {
   "cell_type": "markdown",
   "metadata": {
    "colab_type": "text",
    "id": "w-0pQWrz3DX1"
   },
   "source": [
    "Overall sales seems to increase, however not for the StoreType C (a third from the top). Eventhough the StoreType A is the most selling store type in the dataset, it seems that it cab follow the same decresing trajectory as StoreType C did.\n",
    "\n",
    "Autocorrelaion\n",
    "The next step in ourtime series analysis is to review Autocorrelation Function (ACF) and Partial Autocorrelation Function (PACF) plots.\n",
    "\n",
    "ACF is a measure of the correlation between the timeseries with a lagged version of itself. For instance at lag 5, ACF would compare series at time instant ‘t1’…’tn’ with series at instant ‘t1-5’…’tn-5’ (t1-5 and tn being end points).\n",
    "\n",
    "PACF, on the other hand, measures the correlation between the timeseries with a lagged version of itself but after eliminating the variations explained by the intervening comparisons. Eg. at lag 5, it will check the correlation but remove the effects already explained by lags 1 to 4."
   ]
  },
  {
   "cell_type": "code",
   "execution_count": null,
   "metadata": {
    "colab": {
     "base_uri": "https://localhost:8080/",
     "height": 501
    },
    "colab_type": "code",
    "executionInfo": {
     "elapsed": 5034,
     "status": "ok",
     "timestamp": 1573079777983,
     "user": {
      "displayName": "Rajeev Ratan",
      "photoUrl": "https://lh3.googleusercontent.com/a-/AAuE7mCGo6aIm0tOcd5EhqWlYb0rime9sBvHS9YMpx0D2w=s64",
      "userId": "08597265227091462140"
     },
     "user_tz": 0
    },
    "id": "JV0lugKC055R",
    "outputId": "2f1cdea7-e8c7-4812-c254-61e65435ecfd"
   },
   "outputs": [],
   "source": [
    "plt.figure(figsize = (12, 8))\n",
    "\n",
    "# acf and pacf for A\n",
    "plt.subplot(421); plot_acf(sales_a, lags = 50, ax = plt.gca(), color = c)\n",
    "plt.subplot(422); plot_pacf(sales_a, lags = 50, ax = plt.gca(), color = c)\n",
    "\n",
    "# acf and pacf for B\n",
    "plt.subplot(423); plot_acf(sales_b, lags = 50, ax = plt.gca(), color = c)\n",
    "plt.subplot(424); plot_pacf(sales_b, lags = 50, ax = plt.gca(), color = c)\n",
    "\n",
    "# acf and pacf for C\n",
    "plt.subplot(425); plot_acf(sales_c, lags = 50, ax = plt.gca(), color = c)\n",
    "plt.subplot(426); plot_pacf(sales_c, lags = 50, ax = plt.gca(), color = c)\n",
    "\n",
    "# acf and pacf for D\n",
    "plt.subplot(427); plot_acf(sales_d, lags = 50, ax = plt.gca(), color = c)\n",
    "plt.subplot(428); plot_pacf(sales_d, lags = 50, ax = plt.gca(), color = c)\n",
    "\n",
    "\n",
    "\n",
    "plt.show()"
   ]
  },
  {
   "cell_type": "markdown",
   "metadata": {
    "colab_type": "text",
    "id": "joaCf-293I0R"
   },
   "source": [
    "Podemos ler esses enredos horizontalmente. Cada par horizontal é para um 'StoreType', de A a D. Em geral, essas tramas estão mostrando a correlação da série consigo mesma, defasada por x time units correlação da série consigo mesma, defasada por unidades x tempo.\n",
    "\n",
    "Há duas coisas comuns para cada par de parcelas: não randomnes da série temporal e alta lag-1 (que provavelmente precisará de uma ordem maior de d/D diferente).\n",
    "\n",
    "\n",
    "Tipo A e tipo B: Ambos os tipos apresentam sazonalidades em certos atrasos. Para o tipo A, é cada 12ª observação com picos positivos nos lags 12 (s) e 24(2s) e assim por diante. Para o tipo B é uma tendência semanal com picos positivos nos lags de 7(s), 14(2s), 21(3s) e 28(4s).\n",
    "Tipo C e tipo D: Parcelas desses dois tipos são mais complexas. Parece que cada observação está coorrelada às suas observações adjacentes.\n"
   ]
  },
  {
   "cell_type": "markdown",
   "metadata": {
    "colab_type": "text",
    "id": "8F_EKl6s3PqY"
   },
   "source": [
    "# Análise da Série Time e Previsão com Profeta\n",
    "Previsão para as próximas 6 semanas para a primeira loja!\n",
    "\n",
    "A equipe do Núcleo de Ciência de Dados do Facebook publicou recentemente um novo procedimento para prever dados de séries temporéticas chamadas Prophet. Baseia-se em um modelo aditivo onde tendências não lineares se encaixam com sazonalidade anual e semanal, além de feriados. Ele permite a realização de previsões automatizadas que já são implementadas em R em escala no Python 3.\n"
   ]
  },
  {
   "cell_type": "code",
   "execution_count": null,
   "metadata": {
    "colab": {
     "base_uri": "https://localhost:8080/",
     "height": 69
    },
    "colab_type": "code",
    "executionInfo": {
     "elapsed": 1613,
     "status": "ok",
     "timestamp": 1573081241146,
     "user": {
      "displayName": "Rajeev Ratan",
      "photoUrl": "https://lh3.googleusercontent.com/a-/AAuE7mCGo6aIm0tOcd5EhqWlYb0rime9sBvHS9YMpx0D2w=s64",
      "userId": "08597265227091462140"
     },
     "user_tz": 0
    },
    "id": "2hnJxMEC0_XJ",
    "outputId": "56c32cc5-df66-4c90-d746-4cde77d936fa"
   },
   "outputs": [],
   "source": [
    "# Loading our Datasets\n",
    "df = pd.read_csv(\"rossman_train.csv\", parse_dates = True, low_memory = False, index_col = 'Date')\n",
    "\n",
    "# remove closed stores and those with no sales\n",
    "df = df[(df[\"Open\"] != 0) & (df['Sales'] != 0)]\n",
    "\n",
    "# sales for the store number 1 (StoreType C)\n",
    "sales = df[df.Store == 1].loc[:, ['Date', 'Sales']]\n",
    "\n",
    "# reverse to the order: from 2013 to 2015\n",
    "sales = sales.sort_index(ascending = False)\n",
    "\n",
    "# to datetime64\n",
    "sales['Date'] = pd.DatetimeIndex(sales['Date'])\n",
    "sales.dtypes"
   ]
  },
  {
   "cell_type": "code",
   "execution_count": null,
   "metadata": {
    "colab": {
     "base_uri": "https://localhost:8080/",
     "height": 415
    },
    "colab_type": "code",
    "executionInfo": {
     "elapsed": 868,
     "status": "ok",
     "timestamp": 1573081242194,
     "user": {
      "displayName": "Rajeev Ratan",
      "photoUrl": "https://lh3.googleusercontent.com/a-/AAuE7mCGo6aIm0tOcd5EhqWlYb0rime9sBvHS9YMpx0D2w=s64",
      "userId": "08597265227091462140"
     },
     "user_tz": 0
    },
    "id": "D8UHhu8p8HVP",
    "outputId": "d84a3eb5-26ae-42cf-8b0c-0fccef976ac6"
   },
   "outputs": [],
   "source": [
    "sales = sales.rename(columns = {'Date': 'ds',\n",
    "                                'Sales': 'y'})\n",
    "sales = sales.reset_index()\n",
    "del sales['ds']\n",
    "sales = sales.rename(columns = {'Date': 'ds'})\n",
    "sales"
   ]
  },
  {
   "cell_type": "markdown",
   "metadata": {
    "colab_type": "text",
    "id": "ckaaMiCv8ylD"
   },
   "source": [
    "##Tratativa dos feriados"
   ]
  },
  {
   "cell_type": "code",
   "execution_count": null,
   "metadata": {
    "colab": {
     "base_uri": "https://localhost:8080/",
     "height": 202
    },
    "colab_type": "code",
    "executionInfo": {
     "elapsed": 12176,
     "status": "ok",
     "timestamp": 1573081946059,
     "user": {
      "displayName": "Rajeev Ratan",
      "photoUrl": "https://lh3.googleusercontent.com/a-/AAuE7mCGo6aIm0tOcd5EhqWlYb0rime9sBvHS9YMpx0D2w=s64",
      "userId": "08597265227091462140"
     },
     "user_tz": 0
    },
    "id": "lYduNLap9ABL",
    "outputId": "60fc6b9d-db96-49ec-b5a2-f07a637539ed"
   },
   "outputs": [],
   "source": [
    "# create holidays dataframe\n",
    "state_dates  = df[(df.StateHoliday == 'a') | (df.StateHoliday == 'b') & (df.StateHoliday == 'c')].reset_index().loc[:, 'Date'].values\n",
    "school_dates = df[df.SchoolHoliday == 1].reset_index().loc[:, 'Date'].values\n",
    "\n",
    "state = pd.DataFrame({'holiday': 'state_holiday',\n",
    "                      'ds': pd.to_datetime(state_dates)})\n",
    "school = pd.DataFrame({'holiday': 'school_holiday',\n",
    "                      'ds': pd.to_datetime(school_dates)})\n",
    "\n",
    "holidays = pd.concat((state, school))      \n",
    "holidays.head()"
   ]
  },
  {
   "cell_type": "markdown",
   "metadata": {
    "colab_type": "text",
    "id": "j_kHFsv6_pso"
   },
   "source": [
    "Execute nosso modelo de previsão (leva ~1 min)"
   ]
  },
  {
   "cell_type": "code",
   "execution_count": null,
   "metadata": {
    "colab": {
     "base_uri": "https://localhost:8080/",
     "height": 298
    },
    "colab_type": "code",
    "executionInfo": {
     "elapsed": 59932,
     "status": "ok",
     "timestamp": 1573082007800,
     "user": {
      "displayName": "Rajeev Ratan",
      "photoUrl": "https://lh3.googleusercontent.com/a-/AAuE7mCGo6aIm0tOcd5EhqWlYb0rime9sBvHS9YMpx0D2w=s64",
      "userId": "08597265227091462140"
     },
     "user_tz": 0
    },
    "id": "6YRuLc283iEp",
    "outputId": "2ad56824-4b43-4e32-e61e-f93b66b6cdaa"
   },
   "outputs": [],
   "source": [
    "# set the uncertainty interval to 95% (the Prophet default is 80%)\n",
    "my_model = Prophet(interval_width = 0.95, \n",
    "                   holidays = holidays)\n",
    "my_model.fit(sales)\n",
    "\n",
    "# dataframe that extends into future 6 weeks \n",
    "future_dates = my_model.make_future_dataframe(periods = 6*7)\n",
    "\n",
    "print(\"First week to forecast.\")\n",
    "future_dates.tail(7)"
   ]
  },
  {
   "cell_type": "code",
   "execution_count": null,
   "metadata": {
    "colab": {
     "base_uri": "https://localhost:8080/",
     "height": 263
    },
    "colab_type": "code",
    "executionInfo": {
     "elapsed": 34474,
     "status": "ok",
     "timestamp": 1573082168327,
     "user": {
      "displayName": "Rajeev Ratan",
      "photoUrl": "https://lh3.googleusercontent.com/a-/AAuE7mCGo6aIm0tOcd5EhqWlYb0rime9sBvHS9YMpx0D2w=s64",
      "userId": "08597265227091462140"
     },
     "user_tz": 0
    },
    "id": "IBZhyk019ZqK",
    "outputId": "f3d96b85-bcc4-4df7-f846-cf6a5e157f54"
   },
   "outputs": [],
   "source": [
    "# predictions - takes around ~ 2 min to run\n",
    "forecast = my_model.predict(future_dates)\n",
    "\n",
    "# preditions for last week\n",
    "forecast[['ds', 'yhat', 'yhat_lower', 'yhat_upper']].tail(7)"
   ]
  },
  {
   "cell_type": "markdown",
   "metadata": {
    "colab_type": "text",
    "id": "bOZdNt1O_knM"
   },
   "source": [
    "O objeto de previsão aqui é um novo dataframe que inclui uma coluna com a previsão, bem como colunas para componentes e intervalos de incerteza."
   ]
  },
  {
   "cell_type": "code",
   "execution_count": null,
   "metadata": {
    "colab": {},
    "colab_type": "code",
    "id": "p7BzO58G_Qhp"
   },
   "outputs": [],
   "source": [
    "fc = forecast[['ds', 'yhat']].rename(columns = {'Date': 'ds', 'Forecast': 'yhat'})"
   ]
  },
  {
   "cell_type": "markdown",
   "metadata": {
    "colab_type": "text",
    "id": "kSUNykLh_nFb"
   },
   "source": [
    "Prophet traça os valores observados de nossa série temporal (os pontos negros), os valores previstos (linha azul) e os intervalos de incerteza de nossas previsões (as regiões sombreadas azuis)."
   ]
  },
  {
   "cell_type": "code",
   "execution_count": null,
   "metadata": {
    "colab": {
     "base_uri": "https://localhost:8080/",
     "height": 437
    },
    "colab_type": "code",
    "executionInfo": {
     "elapsed": 1426,
     "status": "ok",
     "timestamp": 1573082185651,
     "user": {
      "displayName": "Rajeev Ratan",
      "photoUrl": "https://lh3.googleusercontent.com/a-/AAuE7mCGo6aIm0tOcd5EhqWlYb0rime9sBvHS9YMpx0D2w=s64",
      "userId": "08597265227091462140"
     },
     "user_tz": 0
    },
    "id": "3ZIKlxpq_neO",
    "outputId": "27f8d300-c1a1-496f-cbcc-8c33424ea2f9"
   },
   "outputs": [],
   "source": [
    "my_model.plot(forecast);"
   ]
  },
  {
   "cell_type": "markdown",
   "metadata": {
    "colab_type": "text",
    "id": "jA-VWdeRAV8F"
   },
   "source": [
    "One other particularly strong feature of Prophet is its ability to return the components of our forecasts. This can help reveal how daily, weekly and yearly patterns of the time series plus manyally included holidayes contribute to the overall forecasted values:"
   ]
  },
  {
   "cell_type": "code",
   "execution_count": null,
   "metadata": {
    "colab": {
     "base_uri": "https://localhost:8080/",
     "height": 869
    },
    "colab_type": "code",
    "executionInfo": {
     "elapsed": 124133,
     "status": "ok",
     "timestamp": 1573082346836,
     "user": {
      "displayName": "Rajeev Ratan",
      "photoUrl": "https://lh3.googleusercontent.com/a-/AAuE7mCGo6aIm0tOcd5EhqWlYb0rime9sBvHS9YMpx0D2w=s64",
      "userId": "08597265227091462140"
     },
     "user_tz": 0
    },
    "id": "borFYs_U_ny4",
    "outputId": "985ec573-2767-4f06-81ca-6b2c0b44e2ab"
   },
   "outputs": [],
   "source": [
    "my_model.plot_components(forecast);"
   ]
  },
  {
   "cell_type": "markdown",
   "metadata": {
    "colab_type": "text",
    "id": "vkvbYOxnAfXY"
   },
   "source": [
    "O primeiro enredo mostra que as vendas mensais da loja número 1 vem diminuindo linearmente ao longo do tempo e a segunda mostra as lacunas holiays incluídas no modelo. A terceira parcela destaca o fato de que o volume semanal de vendas da semana passada chega para a segunda-feira da próxima semana, enquanto o próximo enredo mostra que a estação mais turbulenta ocorre durante as festas de Natal."
   ]
  }
 ],
 "metadata": {
  "colab": {
   "collapsed_sections": [],
   "name": "31.0 Case Study 18 - Sales Forecasting - Rossman Store.ipynb",
   "provenance": [],
   "toc_visible": true
  },
  "kernelspec": {
   "display_name": "Python 3",
   "language": "python",
   "name": "python3"
  },
  "language_info": {
   "codemirror_mode": {
    "name": "ipython",
    "version": 3
   },
   "file_extension": ".py",
   "mimetype": "text/x-python",
   "name": "python",
   "nbconvert_exporter": "python",
   "pygments_lexer": "ipython3",
   "version": "3.8.5"
  }
 },
 "nbformat": 4,
 "nbformat_minor": 1
}
